{
 "cells": [
  {
   "cell_type": "code",
   "execution_count": 1,
   "id": "6afeda54",
   "metadata": {},
   "outputs": [],
   "source": [
    "import numpy as np\n",
    "import matplotlib.pyplot as plt\n",
    "import pickle"
   ]
  },
  {
   "cell_type": "code",
   "execution_count": 3,
   "id": "537a8bb6",
   "metadata": {},
   "outputs": [],
   "source": [
    "file = open('./Acoustic_Optimization-test5', 'rb')\n",
    "phi_optimal = pickle.load(file)\n",
    "file.close()"
   ]
  },
  {
   "cell_type": "code",
   "execution_count": 5,
   "id": "f8f782c6",
   "metadata": {},
   "outputs": [
    {
     "data": {
      "text/plain": [
       "9"
      ]
     },
     "execution_count": 5,
     "metadata": {},
     "output_type": "execute_result"
    }
   ],
   "source": [
    "len(phi_optimal)"
   ]
  },
  {
   "cell_type": "code",
   "execution_count": 6,
   "id": "54d3c6be",
   "metadata": {},
   "outputs": [
    {
     "data": {
      "text/plain": [
       "[array([ 4.6236834 , -1.3701085 , -1.48804432, -1.28389343, -1.20765316,\n",
       "         2.73708511, -3.09132822,  2.04800281, -1.18313898,  2.08330512,\n",
       "        -3.05726047, -1.10563946,  2.37386548,  1.10658517,  5.01997991,\n",
       "        -1.5794164 ,  1.43867531, -1.15600795,  0.92995364, -1.68335428,\n",
       "        -2.08283549,  0.16227562, -1.69809264,  1.14181185,  0.61130989,\n",
       "         0.7138493 , -0.17557774,  2.24728041,  0.80851518, -0.38661238,\n",
       "        -2.7497278 , -0.7532849 ,  2.40489881, -0.37539792,  1.74126764,\n",
       "         0.34166929, -0.95812211, -2.227616  ,  1.06310383,  2.19376861,\n",
       "        -2.70916075,  0.97123506,  1.35392451,  1.33717046, -0.02879767,\n",
       "         1.88751746,  0.01167054,  2.07346591, -2.27307408, -2.67137293,\n",
       "        -0.71771486, -2.62518882,  1.36481999, -1.31360326,  0.488496  ,\n",
       "         0.00657774, -0.93558434,  2.63111936,  0.39724958, -1.7438419 ,\n",
       "        -1.97172551, -3.06393807,  0.09335745,  2.55883198, -0.81422019,\n",
       "        -0.07087734, -0.53864619,  2.87903949, -0.74208382, -2.22358236,\n",
       "         0.91286398,  2.34656184, -0.13525878, -1.47843869,  2.49346536,\n",
       "         2.12897913,  1.56299691, -2.87937096, -0.74688962, -0.25236978,\n",
       "         2.17627783, -0.33462559,  2.84711208, -2.19096223,  0.31393049,\n",
       "         0.19523648,  2.28658751,  0.13285375, -1.46577019,  2.2329572 ,\n",
       "        -2.59509192, -0.93975751, -1.94671971,  1.3868145 , -2.87075366,\n",
       "         1.37763904, -1.43127585,  1.65947089, -2.55275776,  2.99970301]),\n",
       " array([ 1.41570931, -0.88297749, -0.75596164, -2.5851657 , -0.80736795,\n",
       "         1.36213873, -2.94273939,  1.85079459, -0.49933633,  1.98202298,\n",
       "        -3.05572877, -0.79493267,  2.31128258,  1.03652556,  0.70770537,\n",
       "        -1.27787123,  1.09241009, -1.11927112,  0.95329287, -1.66360183,\n",
       "         1.15792866,  1.61881142, -1.3199463 ,  1.1362524 ,  0.8082314 ,\n",
       "         1.07248114,  0.98277376,  2.27765142,  0.81018062,  1.67942674,\n",
       "        -1.77682168, -1.10985886,  2.40441852, -0.37622353,  1.80594063,\n",
       "         0.73234642, -0.96041355, -2.40498376,  1.06338411,  2.19362247,\n",
       "        -2.77313732,  0.97056196,  1.35664572,  1.32219841, -0.02835237,\n",
       "         2.23612375, -0.04142908,  2.0567843 , -2.2733563 , -2.67184434,\n",
       "        -0.74239425, -2.59642148,  1.3240509 , -1.30692662,  0.48910833,\n",
       "         0.00667815, -0.92503364,  2.61977195,  0.39653079, -1.73449454,\n",
       "        -1.96174367, -3.08071457,  0.0932409 ,  2.5590359 , -0.81180243,\n",
       "        -0.07065401, -0.53856963,  2.87783003, -0.74203842, -2.22332175,\n",
       "         0.9139041 ,  2.34693116, -0.13524476, -1.47791887,  2.49336466,\n",
       "         2.12975472,  1.5629147 , -2.87946297, -0.7458005 , -0.25394387,\n",
       "         2.17582758, -0.33391299,  2.84787665, -2.19036899,  0.31399826,\n",
       "         0.19528616,  2.28680263,  0.1337277 , -1.4654907 ,  2.23336769,\n",
       "        -2.59400543, -0.93792257, -1.94578021,  1.38687116, -2.86967847,\n",
       "         1.37821928, -1.4309093 ,  1.65972457, -2.55268672,  2.99981202]),\n",
       " array([ 2.44720594, -1.762509  , -1.71059047,  0.61398392,  0.67183317,\n",
       "         2.26494917, -1.53954503,  4.91953097,  2.61841793,  2.70905719,\n",
       "        -3.6655167 , -1.33441416,  2.37490596,  0.95672077,  1.11769644,\n",
       "        -1.00998209,  1.08091974, -1.12953494,  0.95374354, -1.71963998,\n",
       "        -2.08861562,  0.15906128, -1.69981229,  1.14352852,  0.61602687,\n",
       "         0.71400394, -0.17551302,  2.24611025,  0.80899734, -0.38559186,\n",
       "        -2.75091823, -0.75367216,  2.40478704, -0.37598054,  1.74203731,\n",
       "         0.34191147, -0.95777099, -2.22665206,  1.06434044,  2.19369408,\n",
       "        -2.70938417,  0.97012539,  1.35473342,  1.33700689, -0.02779373,\n",
       "         1.88719381,  0.01093399,  2.07325343, -2.27362618, -2.67188223,\n",
       "        -0.71860965, -2.62445481,  1.36411367, -1.31356284,  0.4881467 ,\n",
       "         0.00618747, -0.92687274,  2.631387  ,  0.39630643, -1.74343623,\n",
       "        -1.96004312, -3.37012352,  0.09478801,  2.55750973, -0.8207544 ,\n",
       "        -0.07039328, -0.5392473 ,  2.87879309, -0.74203002, -2.22312688,\n",
       "         0.90501468,  2.34893358, -0.1345543 , -1.47835557,  2.49424474,\n",
       "         2.12968634,  1.56344695, -2.87942957, -0.74579147, -0.25283145,\n",
       "         2.17590483, -0.33382733,  2.84760897, -2.19123466,  0.31417439,\n",
       "         0.19527807,  2.28680263,  0.13175611, -1.46569258,  2.23302129,\n",
       "        -2.59478985, -0.93958743, -1.94490275,  1.38663207, -2.86936856,\n",
       "         1.37836733, -1.43214666,  1.65850582, -2.54606253,  2.9992971 ]),\n",
       " array([ 3.30067922e+00, -2.92581499e+00,  3.29465492e+00, -2.94090787e+00,\n",
       "         4.90531062e-01,  3.31900920e+00, -2.97078018e+00,  4.50389693e+00,\n",
       "        -5.52517638e-01,  3.09824225e+00, -3.13279244e+00, -1.47407309e+00,\n",
       "         2.33650468e+00,  3.81631199e-02,  1.25098937e-01, -1.58408262e+00,\n",
       "         7.69549120e-01, -1.11880993e+00,  9.52295466e-01, -1.68449237e+00,\n",
       "        -2.08157843e+00,  1.59658854e-01, -1.69809264e+00,  1.13927753e+00,\n",
       "         6.12712347e-01,  7.24587978e-01, -1.79495496e-01,  2.24626479e+00,\n",
       "         8.06847410e-01, -3.85398355e-01, -2.61326493e+00, -7.52421638e-01,\n",
       "         2.40901465e+00, -3.75590638e-01,  1.71471958e+00,  3.41461596e-01,\n",
       "        -9.58229744e-01, -2.22744302e+00,  1.06244248e+00,  2.19322740e+00,\n",
       "        -2.71020035e+00,  9.71119936e-01,  1.35357663e+00,  1.33768116e+00,\n",
       "        -2.85638721e-02,  3.30121199e+00, -1.33626018e+00,  3.02965341e+00,\n",
       "        -1.89516717e+00, -2.69649310e+00, -7.18164086e-01, -2.62409649e+00,\n",
       "         9.76283783e-01, -1.31525129e+00,  4.88271875e-01,  1.40171548e-04,\n",
       "        -9.50908047e-01,  2.62971514e+00,  3.96414499e-01, -1.74450826e+00,\n",
       "        -1.96147061e+00, -3.07942586e+00,  9.31878106e-02,  2.55940437e+00,\n",
       "        -8.15273775e-01, -7.00719796e-02, -5.39566773e-01,  2.88067057e+00,\n",
       "        -7.42561388e-01, -2.22501430e+00,  9.09426705e-01,  2.34646702e+00,\n",
       "        -1.34560896e-01, -1.48163347e+00,  2.87366125e+00,  2.09879792e+00,\n",
       "         1.56916618e+00, -2.88060971e+00, -7.43387378e-01, -2.56819306e-01,\n",
       "         2.17619874e+00, -3.28844861e-01,  2.84690813e+00, -2.18961748e+00,\n",
       "         3.14530320e-01,  1.94567120e-01,  2.28680263e+00,  1.32314925e-01,\n",
       "        -1.46654918e+00,  2.23216787e+00, -2.59464031e+00, -9.37703883e-01,\n",
       "        -1.94585570e+00,  1.38606523e+00, -2.87176408e+00,  1.37789529e+00,\n",
       "        -1.43306056e+00,  1.65777206e+00, -2.55411689e+00,  3.00004372e+00]),\n",
       " array([ 0.99442813, -1.02538737, -0.77966992, -2.77110787, -0.93396699,\n",
       "         1.73569052, -2.95583499,  1.50008857, -1.11665704,  1.30036545,\n",
       "        -5.09404874, -0.98710105,  1.37784697, -4.42513531,  2.74598531,\n",
       "        -1.51754043,  0.60292984, -1.11922023,  0.95435575, -1.68727679,\n",
       "        -2.07874575,  0.3190499 , -1.68999632,  1.13459593,  0.60851607,\n",
       "         0.7139403 , -0.19084055,  2.24534072,  0.80787734, -0.38535   ,\n",
       "        -2.75071335, -0.95645379,  2.2449775 , -0.89723671,  1.84300518,\n",
       "         0.40491209, -0.95890613, -2.22131133,  1.0339905 ,  2.19255547,\n",
       "        -2.67722183,  0.96346742,  1.35471449,  1.33712488, -0.02773949,\n",
       "         1.88707975,  0.01085693,  2.07365057, -2.2730903 , -2.67141384,\n",
       "        -0.71770812, -2.62446479,  1.36438878, -1.3132405 ,  0.48855503,\n",
       "         0.00665565, -0.92633446,  2.63090843,  0.39582246, -1.74284529,\n",
       "        -1.96136191, -3.08003371,  0.09314565,  2.55930908, -0.81463443,\n",
       "        -0.07029311, -0.53932225,  2.87702263, -0.74313092, -2.22343794,\n",
       "         0.91372011,  2.34855854, -0.13472913, -1.47728369,  2.49295676,\n",
       "         2.12968673,  1.56382406, -2.87955456, -0.74594396, -0.25260509,\n",
       "         2.17639865, -0.33370917,  2.84703598, -2.18994348,  0.31384104,\n",
       "         0.19553259,  2.28753962,  0.13252113, -1.47897527,  2.23355702,\n",
       "        -2.59435183, -0.93839045, -1.94549018,  1.38678368, -2.86943592,\n",
       "         1.37823416, -1.43119737,  1.65961258, -2.55286118,  3.00047958]),\n",
       " array([ 0.9059593 , -1.20353546, -1.57784716, -1.28231625, -1.17003982,\n",
       "         1.30646463, -2.96052258,  2.05231956, -0.55077827,  2.08860456,\n",
       "        -3.05600058, -1.09836279,  2.37469693, -0.02375184,  0.1277726 ,\n",
       "        -1.58343347,  0.7692361 , -1.12106637,  0.95601289, -1.6831922 ,\n",
       "        -2.05152909,  0.14066208, -1.69813902,  1.14063582,  0.61596642,\n",
       "         0.71339077, -0.17622979,  2.24543371,  0.80853738, -0.37611346,\n",
       "        -2.75173935, -0.75268722,  2.40459987, -0.37543211,  1.7407522 ,\n",
       "         0.34150556, -0.95849287, -2.12287768,  1.11512881,  2.20957082,\n",
       "        -2.70855516,  0.99404687,  1.34953378,  1.33394027, -0.02766446,\n",
       "         1.88762787,  0.01304261,  2.07376117, -2.27138334, -2.671716  ,\n",
       "        -0.71767672, -2.6244634 ,  1.37282573, -1.31246711,  0.48903409,\n",
       "         0.00640361, -0.92591805,  2.63089561,  0.39650457, -1.74286239,\n",
       "        -1.96137787, -3.07954365,  1.05151417,  2.59205684, -0.96281991,\n",
       "        -0.69433471, -0.53907712,  2.67130721, -0.74215105, -2.25519188,\n",
       "         0.90327349,  2.34894757, -0.13929318, -1.478402  ,  2.49338569,\n",
       "         2.12971767,  1.55960227, -2.87773028, -0.75115464, -0.07601304,\n",
       "         2.17562082, -0.3328451 ,  2.84818263, -2.18990383,  0.31446422,\n",
       "         0.19525291,  2.28077792,  0.13285375, -1.46540911,  2.23318816,\n",
       "        -2.59432607, -0.93789106, -1.94504531,  1.38707359, -2.86945573,\n",
       "         1.3781427 , -1.43110671,  1.6595497 , -2.55295841,  3.00055841]),\n",
       " array([ 4.53079263,  0.33578996, -1.70504937, -5.2013618 , -1.06157577,\n",
       "         2.79559547, -3.43063421,  2.89260981, -1.06181743,  4.7071401 ,\n",
       "        -3.00426646, -1.04020943,  2.53613819,  0.19239313,  0.12729895,\n",
       "        -1.58320131,  0.77004028, -1.12230596,  0.95460101, -1.82839777,\n",
       "        -2.08217521,  0.15974454, -1.69817921,  0.98683602,  0.75273823,\n",
       "         0.71307391, -0.16473782,  2.2471642 ,  0.80865474, -0.38269476,\n",
       "        -2.75067437, -0.75315484,  2.40877889, -0.37627592,  1.74079025,\n",
       "         0.34192272, -0.9536839 , -2.22742531,  1.06315709,  2.19370514,\n",
       "        -2.70821601,  0.9710916 ,  1.35393695,  1.3372768 , -0.02747421,\n",
       "         1.88738192,  0.01180656,  2.07378689, -2.273168  , -2.67194659,\n",
       "        -0.71678217, -2.62441629,  1.36438878, -1.31328336,  0.48906386,\n",
       "         0.00646728, -0.92585074,  2.63077477,  0.39577235, -1.74272762,\n",
       "        -1.96132388, -3.07922219,  0.09341106,  2.55940437, -0.8139225 ,\n",
       "        -0.07058071, -0.53882301,  2.87883151, -0.74227619, -2.22339583,\n",
       "         0.91358623,  2.34896166, -0.13509664, -1.47807674,  2.49346536,\n",
       "         2.12975472,  1.56305717, -2.88008493, -0.74579147, -0.25236978,\n",
       "         2.1762359 , -0.33380053,  2.84763028, -2.18986782,  0.3139442 ,\n",
       "         0.19528616,  2.28759055,  0.13252774, -1.46516079,  2.23360944,\n",
       "        -2.59400543, -0.93767988, -1.94514253,  1.38684804, -2.86971155,\n",
       "         1.37807562, -1.43106152,  1.65962416, -2.55268672,  3.00060803]),\n",
       " array([ 1.48246741, -0.77256162, -0.82104853, -4.13732116, -1.05100725,\n",
       "         1.73617907, -3.04334532,  2.05069719, -0.16833542,  2.09274396,\n",
       "        -3.05734905, -1.10415552,  2.37603527, -0.07532176,  0.00631241,\n",
       "        -1.59083104, -0.63179367, -1.12102874,  0.95385378, -1.67462969,\n",
       "        -1.93287093,  0.16371047, -1.6982134 ,  1.14027087,  0.59992163,\n",
       "         0.71331123, -0.17615128,  3.08080667,  0.80809739, -0.25252763,\n",
       "        -2.7608227 , -0.75445329,  2.40421587, -0.36131933,  1.73999963,\n",
       "         0.19113887, -0.95871949, -2.22756111,  1.06338411,  2.19434435,\n",
       "        -2.70895543,  0.97184064,  1.35369789,  1.33800648, -0.02583221,\n",
       "         1.88692671,  0.01350235,  2.07325135, -2.22897224, -2.67243073,\n",
       "        -0.71862203, -2.62452674,  1.3654465 , -1.31434856,  0.46202785,\n",
       "        -0.01422821, -0.9255744 ,  2.63100324,  0.39487923, -1.74288196,\n",
       "        -1.96184153, -3.07858087,  0.09551274,  2.55913674, -0.81531309,\n",
       "        -0.0702341 , -0.53808926,  2.8777868 , -0.74208141, -2.22312688,\n",
       "         0.913276  ,  2.34776868, -0.13393691, -1.47803621,  2.49278492,\n",
       "         2.12975471,  1.56109708, -2.87937588, -0.74591626, -0.2539175 ,\n",
       "         2.17672085, -0.33436346,  2.84792379, -2.1902324 ,  0.31253659,\n",
       "         0.33910654,  2.29085075,  0.12705092, -1.4667218 ,  2.23309423,\n",
       "        -2.59529198, -0.93777572, -1.94527464,  1.38411217, -2.86977977,\n",
       "         1.37827294, -1.43374948,  1.65848299, -2.55403691,  3.00239512]),\n",
       " array([ 3.59654761,  0.08697833, -2.65600694, -3.33301477,  0.35011542,\n",
       "         3.32696776, -2.9609833 ,  3.54362236,  2.53372924,  3.07618134,\n",
       "        -3.10014737, -1.2442288 ,  2.63033935,  0.29023539, -1.48960577,\n",
       "        -1.57860056,  0.77025597, -1.11887026,  0.95401298, -1.68330817,\n",
       "        -2.0814452 ,  0.15973102, -1.6978095 ,  1.1403285 ,  0.61271235,\n",
       "         0.71407096, -1.89681403,  3.32512574,  0.86648607, -1.25135157,\n",
       "        -2.85285658, -0.72387035,  2.40508322, -0.37509797,  1.79857698,\n",
       "         0.34168472, -1.12910585, -2.22863656,  1.32510075,  2.19356701,\n",
       "        -2.70893417,  0.97172379,  1.35455235,  1.3372768 ,  0.36866925,\n",
       "         1.88363148,  0.15158254,  2.02034329, -2.2704901 , -2.54489093,\n",
       "        -0.71780399, -2.62440127,  1.35412553, -1.31393433,  0.4856201 ,\n",
       "         0.00599503, -0.92586549,  2.63396301,  0.39798785, -1.74334959,\n",
       "        -1.96158292, -3.07917006,  0.09366079,  2.55940437, -0.81388189,\n",
       "        -0.06997251, -0.53931943,  2.87897823, -0.74203002, -2.22326074,\n",
       "         0.91345186,  2.34849717, -0.13518541, -1.47847018,  2.49295298,\n",
       "         2.12872173,  1.5675682 , -2.88120771, -0.74579147, -0.2513163 ,\n",
       "         2.1764189 , -0.33410162,  2.84646531, -2.19050914,  0.31453032,\n",
       "         0.19528616,  2.2860821 ,  0.1326222 , -1.4659755 ,  2.23476151,\n",
       "        -2.59488529, -0.93758865, -1.94490275,  1.38710901, -2.86941518,\n",
       "         1.37815363, -1.4309093 ,  1.66010909, -2.55268672,  3.00061632])]"
      ]
     },
     "execution_count": 6,
     "metadata": {},
     "output_type": "execute_result"
    }
   ],
   "source": [
    "phi_optimal"
   ]
  },
  {
   "cell_type": "code",
   "execution_count": 21,
   "id": "90e42321",
   "metadata": {},
   "outputs": [
    {
     "data": {
      "image/png": "[encoded data removed]",
      "text/plain": [
       "<Figure size 432x288 with 1 Axes>"
      ]
     },
     "metadata": {
      "needs_background": "light"
     },
     "output_type": "display_data"
    }
   ],
   "source": [
    "t = np.linspace(-np.pi, np.pi, 100)\n",
    "\n",
    "x_50 = []\n",
    "for phi in phi_optimal:\n",
    "    phi_wrap = (phi+np.pi) % (2*np.pi) - np.pi #wrap to pi\n",
    "    x, _, _ = plt.hist(phi_wrap, bins=t)\n",
    "    x_50.append(x)\n",
    "\n",
    "x_50 = np.asarray(x_50)"
   ]
  },
  {
   "cell_type": "code",
   "execution_count": 22,
   "id": "c0e4d544",
   "metadata": {},
   "outputs": [
    {
     "data": {
      "text/plain": [
       "(9, 99)"
      ]
     },
     "execution_count": 22,
     "metadata": {},
     "output_type": "execute_result"
    }
   ],
   "source": [
    "x_50.shape"
   ]
  },
  {
   "cell_type": "code",
   "execution_count": 23,
   "id": "3c21d410",
   "metadata": {},
   "outputs": [
    {
     "data": {
      "text/plain": [
       "array([[1., 2., 0., 0., 2., 0., 2., 1., 2., 1., 0., 0., 0., 1., 3., 0.,\n",
       "        1., 0., 2., 0., 0., 0., 3., 1., 1., 0., 4., 1., 1., 2., 2., 1.,\n",
       "        1., 0., 3., 0., 1., 3., 1., 0., 0., 1., 0., 2., 1., 1., 1., 1.,\n",
       "        1., 3., 1., 1., 2., 0., 2., 1., 0., 1., 0., 1., 1., 0., 1., 1.,\n",
       "        2., 0., 2., 1., 0., 0., 2., 3., 1., 0., 1., 1., 1., 0., 0., 1.,\n",
       "        0., 1., 2., 2., 3., 1., 2., 1., 1., 1., 1., 0., 1., 0., 2., 0.,\n",
       "        1., 0., 0.],\n",
       "       [1., 1., 0., 1., 2., 1., 0., 1., 3., 1., 0., 1., 0., 1., 2., 0.,\n",
       "        0., 0., 2., 0., 0., 1., 1., 1., 0., 0., 3., 0., 2., 1., 0., 1.,\n",
       "        1., 0., 3., 1., 3., 4., 0., 0., 0., 2., 0., 1., 1., 1., 0., 1.,\n",
       "        2., 2., 1., 1., 1., 0., 1., 1., 0., 1., 0., 0., 1., 1., 2., 1.,\n",
       "        3., 1., 3., 2., 0., 0., 4., 3., 0., 0., 1., 3., 0., 1., 1., 0.,\n",
       "        1., 1., 0., 2., 3., 3., 1., 1., 1., 1., 1., 0., 0., 0., 2., 0.,\n",
       "        1., 0., 0.],\n",
       "       [0., 0., 0., 0., 2., 0., 2., 1., 2., 1., 0., 0., 0., 1., 3., 0.,\n",
       "        1., 0., 2., 0., 0., 1., 4., 0., 0., 1., 3., 0., 3., 0., 0., 1.,\n",
       "        0., 1., 3., 0., 1., 3., 1., 0., 0., 1., 0., 2., 1., 1., 1., 1.,\n",
       "        1., 3., 1., 1., 2., 0., 2., 1., 0., 1., 0., 2., 2., 0., 1., 1.,\n",
       "        3., 0., 2., 2., 0., 0., 3., 2., 0., 0., 1., 1., 1., 0., 0., 1.,\n",
       "        0., 0., 1., 2., 3., 2., 2., 1., 2., 1., 3., 0., 1., 0., 2., 1.,\n",
       "        1., 0., 0.],\n",
       "       [2., 0., 5., 2., 2., 0., 1., 1., 3., 1., 0., 0., 0., 0., 3., 0.,\n",
       "        1., 0., 2., 1., 0., 1., 3., 0., 1., 0., 4., 0., 2., 0., 0., 1.,\n",
       "        0., 0., 3., 0., 1., 3., 1., 0., 2., 0., 0., 2., 1., 1., 1., 1.,\n",
       "        1., 2., 2., 2., 2., 0., 2., 1., 0., 2., 0., 1., 1., 1., 1., 1.,\n",
       "        3., 0., 1., 1., 0., 0., 2., 2., 0., 0., 1., 1., 1., 0., 0., 0.,\n",
       "        0., 0., 1., 1., 3., 1., 2., 1., 0., 1., 1., 0., 0., 0., 3., 0.,\n",
       "        1., 1., 1.],\n",
       "       [1., 0., 1., 0., 2., 1., 1., 2., 2., 1., 0., 0., 0., 1., 3., 0.,\n",
       "        1., 0., 2., 0., 0., 0., 3., 0., 0., 1., 3., 0., 1., 0., 0., 2.,\n",
       "        0., 2., 5., 1., 1., 3., 1., 0., 0., 1., 0., 1., 1., 1., 1., 1.,\n",
       "        1., 3., 1., 1., 1., 0., 2., 2., 0., 1., 1., 1., 1., 0., 1., 1.,\n",
       "        2., 2., 0., 1., 1., 1., 3., 3., 0., 1., 1., 1., 1., 0., 2., 1.,\n",
       "        0., 0., 1., 2., 4., 1., 1., 0., 1., 1., 1., 0., 1., 0., 2., 0.,\n",
       "        1., 0., 0.],\n",
       "       [1., 1., 1., 0., 2., 0., 2., 1., 2., 1., 0., 0., 0., 2., 1., 0.,\n",
       "        1., 1., 2., 0., 0., 0., 3., 0., 2., 0., 3., 0., 1., 1., 1., 2.,\n",
       "        1., 0., 4., 0., 0., 3., 2., 0., 1., 1., 0., 2., 1., 0., 1., 1.,\n",
       "        1., 4., 0., 3., 1., 0., 2., 1., 0., 1., 0., 1., 1., 1., 1., 2.,\n",
       "        1., 1., 1., 2., 0., 0., 3., 3., 0., 0., 1., 1., 1., 0., 0., 1.,\n",
       "        0., 1., 2., 2., 3., 1., 2., 1., 1., 0., 2., 1., 0., 0., 1., 0.,\n",
       "        1., 0., 0.],\n",
       "       [1., 0., 1., 0., 2., 0., 2., 1., 2., 1., 0., 0., 0., 1., 3., 0.,\n",
       "        1., 0., 2., 0., 1., 1., 3., 0., 2., 0., 3., 0., 1., 0., 0., 1.,\n",
       "        2., 1., 3., 0., 1., 3., 1., 0., 0., 1., 0., 2., 1., 1., 1., 1.,\n",
       "        1., 3., 1., 2., 3., 0., 3., 1., 0., 1., 0., 0., 1., 2., 1., 1.,\n",
       "        2., 1., 2., 0., 0., 0., 3., 2., 0., 0., 1., 1., 1., 0., 0., 1.,\n",
       "        0., 0., 1., 2., 3., 1., 1., 1., 1., 2., 1., 0., 0., 1., 3., 1.,\n",
       "        1., 0., 0.],\n",
       "       [1., 2., 0., 0., 2., 1., 1., 1., 2., 1., 0., 0., 0., 0., 4., 0.,\n",
       "        0., 0., 2., 1., 0., 0., 2., 1., 1., 0., 3., 0., 1., 0., 0., 1.,\n",
       "        2., 0., 3., 0., 2., 4., 1., 1., 0., 1., 0., 1., 1., 2., 2., 1.,\n",
       "        2., 4., 0., 2., 2., 0., 2., 1., 1., 0., 1., 0., 1., 0., 1., 1.,\n",
       "        2., 0., 1., 1., 0., 0., 2., 3., 1., 0., 1., 1., 2., 0., 0., 1.,\n",
       "        0., 1., 2., 3., 2., 1., 2., 1., 1., 1., 1., 0., 0., 0., 2., 0.,\n",
       "        1., 0., 1.],\n",
       "       [2., 0., 3., 0., 3., 0., 2., 2., 2., 2., 0., 0., 0., 1., 3., 0.,\n",
       "        1., 0., 2., 1., 0., 0., 3., 0., 1., 0., 4., 0., 1., 2., 0., 2.,\n",
       "        0., 0., 2., 0., 1., 2., 2., 0., 0., 1., 0., 1., 1., 1., 0., 1.,\n",
       "        1., 1., 2., 2., 2., 0., 3., 3., 0., 1., 0., 1., 1., 1., 0., 2.,\n",
       "        2., 0., 0., 1., 0., 0., 4., 2., 0., 0., 1., 1., 0., 1., 0., 1.,\n",
       "        0., 1., 0., 2., 2., 1., 1., 1., 1., 2., 1., 1., 0., 0., 2., 1.,\n",
       "        1., 1., 0.]])"
      ]
     },
     "execution_count": 23,
     "metadata": {},
     "output_type": "execute_result"
    }
   ],
   "source": [
    "x_50"
   ]
  },
  {
   "cell_type": "code",
   "execution_count": 24,
   "id": "4e6d2ae3",
   "metadata": {},
   "outputs": [
    {
     "name": "stdout",
     "output_type": "stream",
     "text": [
      "100.0\n",
      "100.0\n",
      "100.0\n",
      "100.0\n",
      "100.0\n",
      "100.0\n",
      "100.0\n",
      "100.0\n",
      "100.0\n"
     ]
    }
   ],
   "source": [
    "for x in x_50:\n",
    "    print(np.sum(x))"
   ]
  },
  {
   "cell_type": "code",
   "execution_count": 29,
   "id": "b2273b95",
   "metadata": {},
   "outputs": [
    {
     "data": {
      "text/plain": [
       "<matplotlib.colorbar.Colorbar at 0x25e5c5e4940>"
      ]
     },
     "execution_count": 29,
     "metadata": {},
     "output_type": "execute_result"
    },
    {
     "data": {
      "image/png": "[encoded data removed]",
      "text/plain": [
       "<Figure size 576x576 with 2 Axes>"
      ]
     },
     "metadata": {
      "needs_background": "light"
     },
     "output_type": "display_data"
    }
   ],
   "source": [
    "fig3, ax3 = plt.subplots(figsize=(8,8))\n",
    "im3 = ax3.imshow(np.flip(x_50/100), cmap='turbo',\n",
    "               aspect='equal', interpolation = 'none', interpolation_stage='data')\n",
    "#ax3.set_xticks([0.,  24.,  48.], labels=[-3.14, 0, 3.14], minor=False)\n",
    "#ax3.set_yticks([0., 10., 20., 30., 40., 49.], labels=[1500, 1200, 900, 600, 300, 30])\n",
    "ax3.set_xlabel('Best IPD (phase)')\n",
    "ax3.set_ylabel('Frequency (Hz)')\n",
    "ax3.set_title('Human head')\n",
    "fig3.suptitle('Neuronal best phase for each sound frequency', fontsize='x-large')\n",
    "fig3.colorbar(im3, label='% of neurons out of 100')"
   ]
  }
 ],
 "metadata": {
  "kernelspec": {
   "display_name": "Python 3 (ipykernel)",
   "language": "python",
   "name": "python3"
  },
  "language_info": {
   "codemirror_mode": {
    "name": "ipython",
    "version": 3
   },
   "file_extension": ".py",
   "mimetype": "text/x-python",
   "name": "python",
   "nbconvert_exporter": "python",
   "pygments_lexer": "ipython3",
   "version": "3.10.2"
  }
 },
 "nbformat": 4,
 "nbformat_minor": 5
}
